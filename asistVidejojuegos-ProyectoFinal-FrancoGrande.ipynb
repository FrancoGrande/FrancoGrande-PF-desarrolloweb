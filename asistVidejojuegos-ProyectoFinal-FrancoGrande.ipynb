{
  "nbformat": 4,
  "nbformat_minor": 0,
  "metadata": {
    "colab": {
      "provenance": [],
      "authorship_tag": "ABX9TyPDplO2smlPJu0009SJ/S5n",
      "include_colab_link": true
    },
    "kernelspec": {
      "name": "python3",
      "display_name": "Python 3"
    },
    "language_info": {
      "name": "python"
    }
  },
  "cells": [
    {
      "cell_type": "markdown",
      "metadata": {
        "id": "view-in-github",
        "colab_type": "text"
      },
      "source": [
        "<a href=\"https://colab.research.google.com/github/FrancoGrande/FrancoGrande-PF-desarrolloweb/blob/master/asistVidejojuegos-ProyectoFinal-FrancoGrande.ipynb\" target=\"_parent\"><img src=\"https://colab.research.google.com/assets/colab-badge.svg\" alt=\"Open In Colab\"/></a>"
      ]
    },
    {
      "cell_type": "code",
      "source": [
        "!pip install -q -U google-generativeai"
      ],
      "metadata": {
        "id": "cXJqV7-IqqGW"
      },
      "execution_count": null,
      "outputs": []
    },
    {
      "cell_type": "code",
      "source": [
        "import google.generativeai as genai"
      ],
      "metadata": {
        "id": "c-zuGqKtpxZn"
      },
      "execution_count": null,
      "outputs": []
    },
    {
      "cell_type": "code",
      "source": [
        "\n",
        "from google.colab import userdata\n",
        "GOOGLE_API_KEY=userdata.get('GOOGLE_API_KEY')\n",
        "genai.configure(api_key=GOOGLE_API_KEY)"
      ],
      "metadata": {
        "id": "BYM-dFVzqlfo"
      },
      "execution_count": null,
      "outputs": []
    },
    {
      "cell_type": "code",
      "source": [
        "model = genai.GenerativeModel('gemini-pro')"
      ],
      "metadata": {
        "id": "NF1G4GPPp5eG"
      },
      "execution_count": null,
      "outputs": []
    },
    {
      "cell_type": "code",
      "execution_count": null,
      "metadata": {
        "colab": {
          "base_uri": "https://localhost:8080/",
          "height": 245
        },
        "id": "mIq8Dxs4pa6Y",
        "outputId": "fdb00425-cdec-4687-d787-956d394b1e52"
      },
      "outputs": [
        {
          "output_type": "stream",
          "name": "stdout",
          "text": [
            "¡Ah, Karlach, un alma ardiente con un pasado complicado! Para ganarte su favor en Baldur's Gate 3, recuerda que ella valora la honestidad, la bondad y la disposición a luchar por lo que es correcto:\n",
            "\n",
            "🔥 **Afronta los problemas de frente:** Karlach admira a aquellos que enfrentan los desafíos con valentía y determinación. No rehúyas las peleas o los obstáculos, ¡demuestra tu temple!\n",
            "\n",
            "🔥 **Un corazón compasivo:** A pesar de su apariencia feroz, Karlach tiene un gran corazón. Ser amable y compasivo con los demás, especialmente con aquellos que son vulnerables o sufren, te hará ganar puntos con ella. \n",
            "\n",
            "🔥 **El humor es tu aliado:** A Karlach le encanta reír. Un poco de humor ligero y bromas juguetonas te ayudarán a crear un vínculo más fuerte con ella.\n",
            "\n",
            "🔥 **Escucha su historia:** Karlach carga con un pasado doloroso. Presta atención a sus historias y muestra empatía por sus dificultades. \n",
            "\n",
            "Recuerda, construir una relación con Karlach requiere tiempo y atención a sus deseos y necesidades. Observa sus reacciones a tus acciones y elecciones, y pronto descubrirás el camino hacia su corazón.  ¡Buena suerte, aventurero! \n",
            "\n"
          ]
        }
      ],
      "source": [
        "\n",
        "# Create the model\n",
        "generation_config = {\n",
        "  \"temperature\": 1,\n",
        "  \"top_p\": 0.95,\n",
        "  \"top_k\": 64,\n",
        "  \"max_output_tokens\": 8192,\n",
        "  \"response_mime_type\": \"text/plain\",\n",
        "}\n",
        "\n",
        "model = genai.GenerativeModel(\n",
        "  model_name=\"gemini-1.5-pro\",\n",
        "  generation_config=generation_config,\n",
        "  # safety_settings = Adjust safety settings\n",
        "  # See https://ai.google.dev/gemini-api/docs/safety-settings\n",
        "  system_instruction=\"deportes\",\n",
        ")\n",
        "\n",
        "chat_session = model.start_chat(\n",
        "  history=[\n",
        "    {\n",
        "      \"role\": \"user\",\n",
        "      \"parts\": [\n",
        "        \"Sos un asistente virtual en videojuegos, tu tarea es asistir a los jugadores con sus problemas, podes mostrar un tutorial, dar pistas sobre la situacion en la que esta el jugador y como solucionarla sin hacerle spoiler en la trama\",\n",
        "      ],\n",
        "    },\n",
        "    {\n",
        "      \"role\": \"model\",\n",
        "      \"parts\": [\n",
        "        \"¡Entiendo que quieres ganarte el favor del misterioso Corazón Sombrío en Baldur's Gate 3!  Es un objetivo intrigante, y sin duda te espera un camino interesante. \\n\\nPara guiarte sin arruinarte la experiencia, te recomiendo lo siguiente:\\n\\n**Presta atención a las pistas:** Corazón Sombrrío tiene... preferencias particulares. Observa sus reacciones a tus acciones y decisiones durante el juego. ¿Qué tipo de elecciones parecen complacerlo? ¿Qué lo desagrada? \\n\\n**Diálogos reveladores:**  No te saltes los diálogos con Corazón Sombrío.  Las opciones que elijas al hablar con él  revelarán mucho sobre sus deseos y te darán una idea de cómo fortalecer vuestro vínculo. \\n\\n**Recuerda, las acciones hablan más que las palabras:** A veces, la manera de obtener la aprobación de Corazón Sombrío no se encuentra en lo que dices, sino en lo que haces. Piensa en cómo tus acciones en el mundo reflejan lo que has aprendido sobre sus valores. \\n\\nTen en cuenta que el camino para ganarse el favor de Corazón Sombrío puede ser complejo y depende de tus elecciones a lo largo de la historia.  ¡Buena suerte aventurero!  \\n\",\n",
        "      ],\n",
        "    },\n",
        "  ]\n",
        ")\n",
        "\n",
        "response = chat_session.send_message(\"Quiero saber como contentar a karlash en baldurs gate 3\")\n",
        "\n",
        "print(response.text)"
      ]
    },
    {
      "cell_type": "code",
      "source": [],
      "metadata": {
        "colab": {
          "base_uri": "https://localhost:8080/",
          "height": 297
        },
        "id": "y5gEHbMKqAMU",
        "outputId": "17b876ad-1d89-4ef7-c30f-49316849140f"
      },
      "execution_count": null,
      "outputs": [
        {
          "output_type": "stream",
          "name": "stdout",
          "text": [
            "Entiendo completamente cómo te sientes. El ajedrez puede parecer intimidante al principio, ¡pero no te desanimes! Es un juego que se disfruta a lo largo de toda la vida y nunca es tarde para aprender. \n",
            "\n",
            "En lugar de enfocarte en la frustración de no saber jugar, ¿qué te parece si lo vemos como una oportunidad para aprender algo nuevo y emocionante? 😊\n",
            "\n",
            "Aquí te van algunas ideas para que empieces con buen pie:\n",
            "\n",
            "* **Empieza con lo básico:** Busca recursos online gratuitos, como videos en YouTube o sitios web de ajedrez para principiantes. Enfócate en aprender las reglas básicas: cómo se mueven las piezas, el objetivo del juego y algunas estrategias simples. \n",
            "* **No te abrumes:** El ajedrez tiene mucha profundidad estratégica, pero no necesitas aprenderlo todo de golpe. Comienza con lo básico y ve progresando a tu propio ritmo.\n",
            "* **Juega contra la computadora o una app:** Puedes encontrar muchas aplicaciones móviles y sitios web que te permiten jugar contra la computadora en diferentes niveles de dificultad. Es una excelente manera de practicar sin presión. \n",
            "* **Busca un compañero de juego:** Si conoces a alguien que juega ajedrez, pídele que te enseñe. Jugar contra otra persona puede ser más divertido y te ayudará a aprender de tus errores. \n",
            "* **Únete a un club de ajedrez:** Muchos clubes ofrecen clases para principiantes y te dan la oportunidad de conocer a otras personas que comparten tu interés por el ajedrez.\n",
            "* **¡Diviértete!** Lo más importante es disfrutar del proceso de aprendizaje. No te obsesiones con ganar o perder, simplemente concéntrate en aprender y mejorar. \n",
            "\n",
            "Recuerda, todos empezamos desde cero.  Con un poco de paciencia y práctica, tú también podrás disfrutar del ajedrez. \n",
            "\n"
          ]
        }
      ]
    }
  ]
}